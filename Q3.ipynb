{
 "cells": [
  {
   "cell_type": "markdown",
   "metadata": {},
   "source": [
    "# Exploratory tasks to be performed on the X dataset of your choice from column C:\n"
   ]
  },
  {
   "cell_type": "code",
   "execution_count": 165,
   "metadata": {},
   "outputs": [],
   "source": [
    "# First we will import the required libraries\n",
    "import pandas as pd\n",
    "import matplotlib.pyplot as plt\n",
    "import seaborn as sns\n",
    "import numpy as np\n",
    "import math\n",
    "import scipy.stats as st\n",
    "from scipy.stats import norm,poisson,binom,geom,gamma\n",
    "from sklearn.preprocessing import StandardScaler\n",
    "from scipy import stats\n",
    "import warnings\n",
    "import seaborn as sns\n",
    "import plotly.express as px\n",
    "import plotly.graph_objects as go\n",
    "import plotly.io as pio\n",
    "pio.templates.default = \"plotly_dark\"\n",
    "warnings.filterwarnings('ignore')\n",
    "%matplotlib inline"
   ]
  },
  {
   "cell_type": "markdown",
   "metadata": {},
   "source": [
    "# Our X dataset is a dataset which contains data about staff shortage during covid and number of beds occupied by covid patients"
   ]
  },
  {
   "cell_type": "code",
   "execution_count": 70,
   "metadata": {},
   "outputs": [],
   "source": [
    "df = pd.read_csv('COVID-19_Reported_Patient_Impact_and_Hospital_Capacity_by_State_Timeseries.csv')\n"
   ]
  },
  {
   "cell_type": "code",
   "execution_count": 71,
   "metadata": {},
   "outputs": [],
   "source": [
    "df_x = df.loc[df['state'].isin(['KS', 'IL'])]\n",
    "df_x['date']= pd.to_datetime(df_x['date'])\n",
    "df_x_final=df_x.sort_values(['state', 'date'])\n",
    "df_x_final.reset_index(drop=True, inplace=True)"
   ]
  },
  {
   "cell_type": "code",
   "execution_count": 73,
   "metadata": {},
   "outputs": [
    {
     "data": {
      "text/html": [
       "<div>\n",
       "<style scoped>\n",
       "    .dataframe tbody tr th:only-of-type {\n",
       "        vertical-align: middle;\n",
       "    }\n",
       "\n",
       "    .dataframe tbody tr th {\n",
       "        vertical-align: top;\n",
       "    }\n",
       "\n",
       "    .dataframe thead th {\n",
       "        text-align: right;\n",
       "    }\n",
       "</style>\n",
       "<table border=\"1\" class=\"dataframe\">\n",
       "  <thead>\n",
       "    <tr style=\"text-align: right;\">\n",
       "      <th></th>\n",
       "      <th>state</th>\n",
       "      <th>date</th>\n",
       "      <th>critical_staffing_shortage_today_yes</th>\n",
       "      <th>inpatient_beds</th>\n",
       "      <th>inpatient_beds_used</th>\n",
       "      <th>inpatient_beds_used_covid</th>\n",
       "      <th>percent_of_inpatients_with_covid</th>\n",
       "      <th>inpatient_bed_covid_utilization</th>\n",
       "    </tr>\n",
       "  </thead>\n",
       "  <tbody>\n",
       "    <tr>\n",
       "      <th>0</th>\n",
       "      <td>IL</td>\n",
       "      <td>2020-02-18</td>\n",
       "      <td>0</td>\n",
       "      <td>36.0</td>\n",
       "      <td>20.0</td>\n",
       "      <td>0.0</td>\n",
       "      <td>0.0</td>\n",
       "      <td>0.0</td>\n",
       "    </tr>\n",
       "    <tr>\n",
       "      <th>1</th>\n",
       "      <td>IL</td>\n",
       "      <td>2020-02-19</td>\n",
       "      <td>0</td>\n",
       "      <td>86.0</td>\n",
       "      <td>17.0</td>\n",
       "      <td>0.0</td>\n",
       "      <td>0.0</td>\n",
       "      <td>0.0</td>\n",
       "    </tr>\n",
       "    <tr>\n",
       "      <th>2</th>\n",
       "      <td>IL</td>\n",
       "      <td>2020-02-20</td>\n",
       "      <td>0</td>\n",
       "      <td>86.0</td>\n",
       "      <td>13.0</td>\n",
       "      <td>0.0</td>\n",
       "      <td>0.0</td>\n",
       "      <td>0.0</td>\n",
       "    </tr>\n",
       "    <tr>\n",
       "      <th>3</th>\n",
       "      <td>IL</td>\n",
       "      <td>2020-02-21</td>\n",
       "      <td>0</td>\n",
       "      <td>86.0</td>\n",
       "      <td>14.0</td>\n",
       "      <td>0.0</td>\n",
       "      <td>0.0</td>\n",
       "      <td>0.0</td>\n",
       "    </tr>\n",
       "    <tr>\n",
       "      <th>4</th>\n",
       "      <td>IL</td>\n",
       "      <td>2020-02-22</td>\n",
       "      <td>0</td>\n",
       "      <td>86.0</td>\n",
       "      <td>14.0</td>\n",
       "      <td>0.0</td>\n",
       "      <td>0.0</td>\n",
       "      <td>0.0</td>\n",
       "    </tr>\n",
       "  </tbody>\n",
       "</table>\n",
       "</div>"
      ],
      "text/plain": [
       "  state       date  critical_staffing_shortage_today_yes  inpatient_beds  \\\n",
       "0    IL 2020-02-18                                     0            36.0   \n",
       "1    IL 2020-02-19                                     0            86.0   \n",
       "2    IL 2020-02-20                                     0            86.0   \n",
       "3    IL 2020-02-21                                     0            86.0   \n",
       "4    IL 2020-02-22                                     0            86.0   \n",
       "\n",
       "   inpatient_beds_used  inpatient_beds_used_covid  \\\n",
       "0                 20.0                        0.0   \n",
       "1                 17.0                        0.0   \n",
       "2                 13.0                        0.0   \n",
       "3                 14.0                        0.0   \n",
       "4                 14.0                        0.0   \n",
       "\n",
       "   percent_of_inpatients_with_covid  inpatient_bed_covid_utilization  \n",
       "0                               0.0                              0.0  \n",
       "1                               0.0                              0.0  \n",
       "2                               0.0                              0.0  \n",
       "3                               0.0                              0.0  \n",
       "4                               0.0                              0.0  "
      ]
     },
     "execution_count": 73,
     "metadata": {},
     "output_type": "execute_result"
    }
   ],
   "source": [
    "covid_data = df_x_final[['state','date','critical_staffing_shortage_today_yes','inpatient_beds','inpatient_beds_used','inpatient_beds_used_covid','percent_of_inpatients_with_covid','inpatient_bed_covid_utilization']]\n",
    "covid_data.head()"
   ]
  },
  {
   "cell_type": "code",
   "execution_count": 76,
   "metadata": {},
   "outputs": [],
   "source": [
    "df_x_IL = covid_data[covid_data['state'] == 'IL']"
   ]
  },
  {
   "cell_type": "code",
   "execution_count": 141,
   "metadata": {},
   "outputs": [],
   "source": [
    "df_x_KS = covid_data[covid_data['state'] == 'KS']"
   ]
  },
  {
   "cell_type": "code",
   "execution_count": 95,
   "metadata": {},
   "outputs": [],
   "source": [
    "dff = (df_x_IL[(df_x_IL['date']>pd.to_datetime('2020-10-31')) & (df_x_IL['date']<pd.to_datetime('2020-12-28'))])"
   ]
  },
  {
   "cell_type": "code",
   "execution_count": 98,
   "metadata": {},
   "outputs": [],
   "source": [
    "dfc = (df_case_IL[(df_case_IL['submission_date']>pd.to_datetime('2020-10-31')) & (df_case_IL['submission_date']<pd.to_datetime('2020-12-28'))])"
   ]
  },
  {
   "cell_type": "code",
   "execution_count": 167,
   "metadata": {},
   "outputs": [],
   "source": [
    "# We are using correlation to compare the data between per day cases and Critical staffing shortage on that respective day"
   ]
  },
  {
   "cell_type": "code",
   "execution_count": 168,
   "metadata": {},
   "outputs": [],
   "source": [
    "# helper function to compute correlation\n",
    "def computeCorrelation(x,y):\n",
    "    x_mean = np.mean(x)\n",
    "    y_mean = np.mean(y)\n",
    "    print(x_mean)\n",
    "    print(y_mean)\n",
    "    xy = 0\n",
    "    xi_x = 0\n",
    "    yi_y = 0\n",
    "\n",
    "    for i in range(len(x)):\n",
    "        xy += ((x[i]-x_mean) * (y[i] - y_mean))\n",
    "        xi_x += np.square(x[i] - x_mean)\n",
    "        yi_y += np.square(y[i] - y_mean)\n",
    "\n",
    "    return xy/((np.sqrt(xi_x * yi_y)))"
   ]
  },
  {
   "cell_type": "code",
   "execution_count": 121,
   "metadata": {},
   "outputs": [
    {
     "name": "stdout",
     "output_type": "stream",
     "text": [
      "37.49122807017544\n",
      "9146.491228070176\n",
      "Our Function Correlation: 0.843 \n"
     ]
    }
   ],
   "source": [
    "x = dff['critical_staffing_shortage_today_yes']\n",
    "y = dfc['per_day_cases']\n",
    "correlation = computeCorrelation(x,y)\n",
    "#validate it with corr\n",
    "\n",
    "print(\"Our Function Correlation: %1.3f \" % (correlation))\n"
   ]
  },
  {
   "cell_type": "markdown",
   "metadata": {},
   "source": [
    "# From the above data we can see a very high correlation between staff shortage and per day cases"
   ]
  },
  {
   "cell_type": "code",
   "execution_count": 134,
   "metadata": {},
   "outputs": [
    {
     "name": "stdout",
     "output_type": "stream",
     "text": [
      "5234.666666666667\n",
      "9146.491228070176\n",
      "Our Function Correlation: 0.529 \n"
     ]
    }
   ],
   "source": [
    "x = np.array(dff['inpatient_beds_used_covid'])\n",
    "y = np.array(dfc['per_day_cases'])\n",
    "correlation = computeCorrelation(x,y)\n",
    "#validate it with corr\n",
    "\n",
    "print(\"Our Function Correlation: %1.3f \" % (correlation))\n"
   ]
  },
  {
   "cell_type": "markdown",
   "metadata": {},
   "source": [
    "# From the above data we can see a very high correlation between inpatient beds occupied by covid patients and per day cases"
   ]
  },
  {
   "cell_type": "markdown",
   "metadata": {},
   "source": [
    "# Part2: Now we try to check the occuring of second wave in August 2022 by taking prewave and postwave data and applying permutation test"
   ]
  },
  {
   "cell_type": "code",
   "execution_count": 135,
   "metadata": {},
   "outputs": [],
   "source": [
    "df_prewave= (df_case_IL[(df_case_KS['submission_date']>pd.to_datetime('2021-05-24')) & (df_case_KS['submission_date']<pd.to_datetime('2021-06-24'))])"
   ]
  },
  {
   "cell_type": "code",
   "execution_count": 136,
   "metadata": {},
   "outputs": [],
   "source": [
    "df_postwave= (df_case_IL[(df_case_KS['submission_date']>pd.to_datetime('2021-07-30')) & (df_case_KS['submission_date']<pd.to_datetime('2021-08-30'))])"
   ]
  },
  {
   "cell_type": "code",
   "execution_count": 137,
   "metadata": {},
   "outputs": [],
   "source": [
    "def permutation_test(X, Y, n, threshold):\n",
    "    T_obs = abs(np.mean(X) - np.mean(Y)) \n",
    "    print(T_obs, np.mean(X), np.mean(Y))\n",
    "    xy = np.append(X,Y)\n",
    "#     xy.info()\n",
    "    p_value = 0.0\n",
    "    for i in range(n):\n",
    "        permutation = np.random.permutation(xy)\n",
    "        X1 = permutation[:len(X)]\n",
    "        Y1 = permutation[len(X):]\n",
    "        Ti = abs(np.mean(X1) - np.mean(Y1))\n",
    "        if(Ti > T_obs):\n",
    "            p_value += 1.0\n",
    "#         print(p_value, T_obs, Ti)\n",
    "    p_value = p_value/n\n",
    "    print(\"The p-value is: \", p_value)\n",
    "    if(p_value <= threshold):\n",
    "        print(\"==> Reject the Null Hypothesis\")\n",
    "    else:\n",
    "        print(\"==> Accept the Null Hypothesis\")\n",
    "    return"
   ]
  },
  {
   "cell_type": "code",
   "execution_count": 169,
   "metadata": {},
   "outputs": [
    {
     "name": "stdout",
     "output_type": "stream",
     "text": [
      "-----------------------------------------------------------------------------------------------------\n",
      "2.0333333333333314 17.866666666666667 19.9\n",
      "The p-value is:  0.494\n",
      "==> Accept the Null Hypothesis\n",
      "17.866666666666667\n",
      "19.9\n",
      "-----------------------------------------------------------------------------------------------------\n",
      "2721.7666666666664 3170.133333333333 448.3666666666667\n",
      "The p-value is:  0.0\n",
      "==> Reject the Null Hypothesis\n",
      "-----------------------------------------------------------------------------------------------------\n"
     ]
    }
   ],
   "source": [
    "# PERMUTATION TEST: Hypotheses and Results\n",
    "print(\"-----------------------------------------------------------------------------------------------------\")\n",
    "\n",
    "permutation_test(np.array(df_postwave['per_day_deaths']),np.array(df_prewave['per_day_deaths']),1000,0.05)\n",
    "print(np.mean(np.array(df_postwave['per_day_deaths'])))\n",
    "print(np.mean(np.array(df_prewave['per_day_deaths'])))\n",
    "print(\"-----------------------------------------------------------------------------------------------------\")\n",
    "\n",
    "permutation_test(np.array(df_postwave['per_day_cases']),np.array(df_prewave['per_day_cases']),1000,0.05)\n",
    "print(\"-----------------------------------------------------------------------------------------------------\")\n"
   ]
  },
  {
   "cell_type": "markdown",
   "metadata": {},
   "source": [
    "### From the above we see that - the number of cases in increased after wave so permutation test rejects null hyp\n",
    "### But number of deaths remained steady. So permutations test accepts null hypotheseis"
   ]
  },
  {
   "cell_type": "code",
   "execution_count": null,
   "metadata": {},
   "outputs": [],
   "source": []
  }
 ],
 "metadata": {
  "kernelspec": {
   "display_name": "Python 3",
   "language": "python",
   "name": "python3"
  },
  "language_info": {
   "codemirror_mode": {
    "name": "ipython",
    "version": 3
   },
   "file_extension": ".py",
   "mimetype": "text/x-python",
   "name": "python",
   "nbconvert_exporter": "python",
   "pygments_lexer": "ipython3",
   "version": "3.8.3"
  }
 },
 "nbformat": 4,
 "nbformat_minor": 4
}
